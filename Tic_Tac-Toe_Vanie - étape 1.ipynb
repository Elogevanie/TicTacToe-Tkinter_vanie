{
 "cells": [
  {
   "cell_type": "code",
   "execution_count": 1,
   "id": "981ee215-5e1c-49c1-9b4d-a93be884d17c",
   "metadata": {},
   "outputs": [],
   "source": [
    "#1. Importons les bibliothèques\n",
    "import tkinter as tk\n",
    "import tkinter.messagebox\n",
    "\n",
    "#2. Créons une fenêtre Tkinter \n",
    "fenetre = tk.Tk()\n",
    "fenetre.title(\"TIC-TAC-TOE\")\n",
    "\n",
    "#3. Définissons une liste appelée 'digits' contenant les chiffres de 1 à 9\n",
    "#Ces chiffres représenteront les positions disponibles sur la grille du jeu\n",
    "digits = [1, 2, 3, 4, 5, 6, 7, 8, 9]\n",
    "\n",
    "#4. Initialisons une variable 'mark' avec une chaîne vide\n",
    "mark = ''\n",
    "\n",
    "#5. Déclarons une variable 'count' initialisée à 0\n",
    "#Elle nous permettra de suivre le nombre de tours joués\n",
    "count = 0\n",
    "\n",
    "# 6. Créons une liste 'panels' contenant 10 éléments\n",
    "#Le premier est un simple espace réservé ('panel'),\n",
    "#les neuf autres serviront à représenter les boutons du plateau de jeu\n",
    "panels = ['panel'] + [None]*9"
   ]
  },
  {
   "cell_type": "code",
   "execution_count": null,
   "id": "65a2f239-7588-477e-a31f-bfab780b5e3c",
   "metadata": {},
   "outputs": [],
   "source": []
  }
 ],
 "metadata": {
  "kernelspec": {
   "display_name": "base",
   "language": "python",
   "name": "python3"
  },
  "language_info": {
   "codemirror_mode": {
    "name": "ipython",
    "version": 3
   },
   "file_extension": ".py",
   "mimetype": "text/x-python",
   "name": "python",
   "nbconvert_exporter": "python",
   "pygments_lexer": "ipython3",
   "version": "3.12.7"
  }
 },
 "nbformat": 4,
 "nbformat_minor": 5
}
